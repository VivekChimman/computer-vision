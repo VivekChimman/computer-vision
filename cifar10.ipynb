{
  "nbformat": 4,
  "nbformat_minor": 0,
  "metadata": {
    "colab": {
      "name": "cifar10.ipynb",
      "provenance": [],
      "collapsed_sections": [],
      "authorship_tag": "ABX9TyN17UNFx/89KhHSrGoqb3+j",
      "include_colab_link": true
    },
    "kernelspec": {
      "display_name": "Python 3",
      "name": "python3"
    },
    "language_info": {
      "name": "python"
    }
  },
  "cells": [
    {
      "cell_type": "markdown",
      "metadata": {
        "id": "view-in-github",
        "colab_type": "text"
      },
      "source": [
        "<a href=\"https://colab.research.google.com/gist/VivekChimman/667140e97c99fe1167c3aee9a358defa/cifar10.ipynb\" target=\"_parent\"><img src=\"https://colab.research.google.com/assets/colab-badge.svg\" alt=\"Open In Colab\"/></a>"
      ]
    },
    {
      "cell_type": "code",
      "metadata": {
        "id": "SQ2pDu1xgtvT"
      },
      "source": [
        "import tensorflow as tf \n",
        "\n",
        "from tensorflow.keras.datasets import cifar10"
      ],
      "execution_count": null,
      "outputs": []
    },
    {
      "cell_type": "code",
      "metadata": {
        "id": "eeUrDhD0vWvI"
      },
      "source": [
        "# Data has already been sorted as training and test sets\n",
        "(train_data, train_labels), (test_data, test_labels) = cifar10.load_data()"
      ],
      "execution_count": null,
      "outputs": []
    },
    {
      "cell_type": "code",
      "metadata": {
        "colab": {
          "base_uri": "https://localhost:8080/"
        },
        "id": "FFRQMQedw4QX",
        "outputId": "efd1ab55-86d5-41e8-b500-28258c39ec2f"
      },
      "source": [
        "# Show the first training example\n",
        "print (f\"Training sample: \\n{train_data[0]} \\n\")\n",
        "print (f\"Training label: \\n{train_labels[0]} \\n\")"
      ],
      "execution_count": null,
      "outputs": [
        {
          "output_type": "stream",
          "name": "stdout",
          "text": [
            "Training sample: \n",
            "[[[ 59  62  63]\n",
            "  [ 43  46  45]\n",
            "  [ 50  48  43]\n",
            "  ...\n",
            "  [158 132 108]\n",
            "  [152 125 102]\n",
            "  [148 124 103]]\n",
            "\n",
            " [[ 16  20  20]\n",
            "  [  0   0   0]\n",
            "  [ 18   8   0]\n",
            "  ...\n",
            "  [123  88  55]\n",
            "  [119  83  50]\n",
            "  [122  87  57]]\n",
            "\n",
            " [[ 25  24  21]\n",
            "  [ 16   7   0]\n",
            "  [ 49  27   8]\n",
            "  ...\n",
            "  [118  84  50]\n",
            "  [120  84  50]\n",
            "  [109  73  42]]\n",
            "\n",
            " ...\n",
            "\n",
            " [[208 170  96]\n",
            "  [201 153  34]\n",
            "  [198 161  26]\n",
            "  ...\n",
            "  [160 133  70]\n",
            "  [ 56  31   7]\n",
            "  [ 53  34  20]]\n",
            "\n",
            " [[180 139  96]\n",
            "  [173 123  42]\n",
            "  [186 144  30]\n",
            "  ...\n",
            "  [184 148  94]\n",
            "  [ 97  62  34]\n",
            "  [ 83  53  34]]\n",
            "\n",
            " [[177 144 116]\n",
            "  [168 129  94]\n",
            "  [179 142  87]\n",
            "  ...\n",
            "  [216 184 140]\n",
            "  [151 118  84]\n",
            "  [123  92  72]]] \n",
            "\n",
            "Training label: \n",
            "[6] \n",
            "\n"
          ]
        }
      ]
    },
    {
      "cell_type": "code",
      "metadata": {
        "colab": {
          "base_uri": "https://localhost:8080/"
        },
        "id": "ULitdnaaxqJR",
        "outputId": "2e3ab3bc-cbaf-4400-fc34-7af60ea9558b"
      },
      "source": [
        "# Check the shape of a single example\n",
        "train_data[0].shape, train_labels[0].shape\n"
      ],
      "execution_count": null,
      "outputs": [
        {
          "output_type": "execute_result",
          "data": {
            "text/plain": [
              "((32, 32, 3), (1,))"
            ]
          },
          "metadata": {},
          "execution_count": 69
        }
      ]
    },
    {
      "cell_type": "code",
      "metadata": {
        "colab": {
          "base_uri": "https://localhost:8080/",
          "height": 266
        },
        "id": "mjS6QcuHyRpm",
        "outputId": "28164cad-84c3-4168-bf60-c6b9fc43d1d3"
      },
      "source": [
        "#Plot a single sample\n",
        "import matplotlib.pyplot as plt\n",
        "plt.imshow(train_data[0]);\n",
        "\n"
      ],
      "execution_count": null,
      "outputs": [
        {
          "output_type": "display_data",
          "data": {
            "image/png": "[encoded data removed]",
            "text/plain": [
              "<Figure size 432x288 with 1 Axes>"
            ]
          },
          "metadata": {
            "needs_background": "light"
          }
        }
      ]
    },
    {
      "cell_type": "code",
      "metadata": {
        "colab": {
          "base_uri": "https://localhost:8080/"
        },
        "id": "3geVWzTWzIel",
        "outputId": "0bde52b0-b226-4596-93ba-98ce8a3afdcb"
      },
      "source": [
        "# Check out samples label. \n",
        "train_labels[0]"
      ],
      "execution_count": null,
      "outputs": [
        {
          "output_type": "execute_result",
          "data": {
            "text/plain": [
              "array([6], dtype=uint8)"
            ]
          },
          "metadata": {},
          "execution_count": 71
        }
      ]
    },
    {
      "cell_type": "code",
      "metadata": {
        "colab": {
          "base_uri": "https://localhost:8080/"
        },
        "id": "VTiy3eYv6dHm",
        "outputId": "54a70695-227c-4566-ee4e-07619245fbe8"
      },
      "source": [
        "train_labels[:5]"
      ],
      "execution_count": null,
      "outputs": [
        {
          "output_type": "execute_result",
          "data": {
            "text/plain": [
              "array([[6],\n",
              "       [9],\n",
              "       [9],\n",
              "       [4],\n",
              "       [1]], dtype=uint8)"
            ]
          },
          "metadata": {},
          "execution_count": 72
        }
      ]
    },
    {
      "cell_type": "code",
      "metadata": {
        "colab": {
          "base_uri": "https://localhost:8080/"
        },
        "id": "I_0AX3RG6-Bj",
        "outputId": "437d6d89-2d9f-4496-c8af-9c5135f44d0d"
      },
      "source": [
        "train_labels = train_labels.reshape(-1,) \n",
        "train_labels[:5]"
      ],
      "execution_count": null,
      "outputs": [
        {
          "output_type": "execute_result",
          "data": {
            "text/plain": [
              "array([6, 9, 9, 4, 1], dtype=uint8)"
            ]
          },
          "metadata": {},
          "execution_count": 73
        }
      ]
    },
    {
      "cell_type": "code",
      "metadata": {
        "colab": {
          "base_uri": "https://localhost:8080/"
        },
        "id": "awtdewRC0TCZ",
        "outputId": "7383eeaf-fa5e-4dcd-ce2b-e660df73974c"
      },
      "source": [
        "# Create a small list so we can index onto our training labels so they're human-readable\n",
        "class_names = [\"airplane\", \"automobile\", \"bird\", \"cat\", \"deer\", \"dog\", \"frog\", \"horse\", \"ship\", \"truck\"]\n",
        "len(class_names)"
      ],
      "execution_count": null,
      "outputs": [
        {
          "output_type": "execute_result",
          "data": {
            "text/plain": [
              "10"
            ]
          },
          "metadata": {},
          "execution_count": 74
        }
      ]
    },
    {
      "cell_type": "code",
      "metadata": {
        "colab": {
          "base_uri": "https://localhost:8080/",
          "height": 298
        },
        "id": "BvKSXBeK1rMb",
        "outputId": "d6c09485-1927-496f-da37-bc2d04382891"
      },
      "source": [
        "#Plot an example image with it's label\n",
        "index_of_choice = 10000\n",
        "plt.imshow(train_data[index_of_choice], cmap=plt.cm.binary)\n",
        "plt.title(class_names[train_labels[index_of_choice]])"
      ],
      "execution_count": null,
      "outputs": [
        {
          "output_type": "execute_result",
          "data": {
            "text/plain": [
              "Text(0.5, 1.0, 'automobile')"
            ]
          },
          "metadata": {},
          "execution_count": 75
        },
        {
          "output_type": "display_data",
          "data": {
            "image/png": "[encoded data removed]",
            "text/plain": [
              "<Figure size 432x288 with 1 Axes>"
            ]
          },
          "metadata": {
            "needs_background": "light"
          }
        }
      ]
    },
    {
      "cell_type": "code",
      "metadata": {
        "colab": {
          "base_uri": "https://localhost:8080/",
          "height": 162
        },
        "id": "LhvXE2Z7_S0p",
        "outputId": "8d58f9a9-22ac-438e-8a8e-e82fa0956da3"
      },
      "source": [
        "  # Plot multiple random images of cifar10\n",
        "  import random\n",
        "  plt.figure(figsize=(7, 7))\n",
        "  for i in range(3):\n",
        "     ax = plt.subplot(2, 3, i+1)\n",
        "     rand_index = random.choice(range(len(train_data)))\n",
        "     plt.imshow(train_data[rand_index], cmap=plt.cm.binary)\n",
        "     plt.title(class_names[train_labels[rand_index]])\n",
        "     plt.axis(False)\n",
        " "
      ],
      "execution_count": null,
      "outputs": [
        {
          "output_type": "display_data",
          "data": {
            "image/png": "[encoded data removed]",
            "text/plain": [
              "<Figure size 504x504 with 3 Axes>"
            ]
          },
          "metadata": {
            "needs_background": "light"
          }
        }
      ]
    },
    {
      "cell_type": "code",
      "metadata": {
        "colab": {
          "base_uri": "https://localhost:8080/"
        },
        "id": "mSV_hZdrBNhn",
        "outputId": "1495ad81-12d6-45dc-b60f-cd1d5d40f813"
      },
      "source": [
        "32*32*3"
      ],
      "execution_count": null,
      "outputs": [
        {
          "output_type": "execute_result",
          "data": {
            "text/plain": [
              "3072"
            ]
          },
          "metadata": {},
          "execution_count": 78
        }
      ]
    },
    {
      "cell_type": "code",
      "metadata": {
        "colab": {
          "base_uri": "https://localhost:8080/"
        },
        "id": "aZhxjqthJbF5",
        "outputId": "85937aca-2ff0-4d0a-b54e-aa1d8dea6a20"
      },
      "source": [
        "# Check the min and max values of the training data.\n",
        "train_data.min(), train_data.max()"
      ],
      "execution_count": null,
      "outputs": [
        {
          "output_type": "execute_result",
          "data": {
            "text/plain": [
              "(0, 255)"
            ]
          },
          "metadata": {},
          "execution_count": 79
        }
      ]
    },
    {
      "cell_type": "code",
      "metadata": {
        "id": "V9yaFDRPJiCf"
      },
      "source": [
        "# getting our training and testing data between 0 & 1 by dividing by the maximum\n",
        "train_data_norm = train_data/255.0\n",
        "test_data_norm = test_data/255.0"
      ],
      "execution_count": null,
      "outputs": []
    },
    {
      "cell_type": "code",
      "metadata": {
        "colab": {
          "base_uri": "https://localhost:8080/"
        },
        "id": "RPGr6CYlJ8Wn",
        "outputId": "094969f3-c01a-485b-960b-4c053cfba693"
      },
      "source": [
        "#check the min and max values of the scaled training data\n",
        "train_data_norm.min(), train_data_norm.max()"
      ],
      "execution_count": null,
      "outputs": [
        {
          "output_type": "execute_result",
          "data": {
            "text/plain": [
              "(0.0, 1.0)"
            ]
          },
          "metadata": {},
          "execution_count": 81
        }
      ]
    },
    {
      "cell_type": "code",
      "metadata": {
        "id": "Zn4HTCzzN-dn",
        "colab": {
          "base_uri": "https://localhost:8080/"
        },
        "outputId": "a8406e79-fe8a-44de-b215-67aacc7bcdf3"
      },
      "source": [
        "import tensorflow as tf\n",
        "from tensorflow import keras\n",
        "from tensorflow.keras import layers\n",
        "tf.random.set_seed(42)\n",
        "\n",
        "# Create a model \n",
        "model = tf.keras.Sequential([\n",
        "#cnn\n",
        "tf.keras.layers.Conv2D(filters=32, kernel_size=(3,3), activation=\"relu\", input_shape=(32,32,3)),\n",
        "tf.keras.layers.MaxPooling2D((2,2)),\n",
        "tf.keras.layers.Conv2D(filters=64, kernel_size=(3,3), activation='relu'),\n",
        "tf.keras.layers.MaxPooling2D((2,2)),\n",
        "#dense\n",
        "tf.keras.layers.Flatten(),\n",
        "tf.keras.layers.Dense(160, activation='relu'),\n",
        "tf.keras.layers.Dense(10, activation='softmax')\n",
        "])\n",
        "\n",
        "# Compile the model\n",
        "model.compile(loss=tf.keras.losses.SparseCategoricalCrossentropy(),\n",
        "                optimizer=tf.keras.optimizers.Adam(learning_rate=0.001),\n",
        "                  metrics=[\"accuracy\"])\n",
        "#Fit the model\n",
        "norm_history = model.fit(train_data_norm,\n",
        "                           train_labels,\n",
        "                           epochs=10,\n",
        "                           validation_data=(test_data_norm, test_labels))"
      ],
      "execution_count": null,
      "outputs": [
        {
          "output_type": "stream",
          "name": "stdout",
          "text": [
            "Epoch 1/10\n",
            "1563/1563 [==============================] - 70s 44ms/step - loss: 1.4009 - accuracy: 0.4988 - val_loss: 1.1231 - val_accuracy: 0.6035\n",
            "Epoch 2/10\n",
            "1563/1563 [==============================] - 68s 44ms/step - loss: 1.0284 - accuracy: 0.6402 - val_loss: 0.9862 - val_accuracy: 0.6493\n",
            "Epoch 3/10\n",
            "1563/1563 [==============================] - 70s 45ms/step - loss: 0.8785 - accuracy: 0.6932 - val_loss: 0.9003 - val_accuracy: 0.6907\n",
            "Epoch 4/10\n",
            "1563/1563 [==============================] - 68s 44ms/step - loss: 0.7710 - accuracy: 0.7328 - val_loss: 0.8986 - val_accuracy: 0.6953\n",
            "Epoch 5/10\n",
            "1563/1563 [==============================] - 68s 44ms/step - loss: 0.6769 - accuracy: 0.7627 - val_loss: 0.8705 - val_accuracy: 0.7101\n",
            "Epoch 6/10\n",
            "1563/1563 [==============================] - 68s 43ms/step - loss: 0.5841 - accuracy: 0.7969 - val_loss: 0.8948 - val_accuracy: 0.7118\n",
            "Epoch 7/10\n",
            "1563/1563 [==============================] - 68s 44ms/step - loss: 0.5039 - accuracy: 0.8239 - val_loss: 0.9214 - val_accuracy: 0.7051\n",
            "Epoch 8/10\n",
            "1563/1563 [==============================] - 68s 44ms/step - loss: 0.4277 - accuracy: 0.8506 - val_loss: 0.9717 - val_accuracy: 0.7060\n",
            "Epoch 9/10\n",
            "1563/1563 [==============================] - 68s 44ms/step - loss: 0.3583 - accuracy: 0.8747 - val_loss: 1.0035 - val_accuracy: 0.7026\n",
            "Epoch 10/10\n",
            "1563/1563 [==============================] - 68s 44ms/step - loss: 0.2945 - accuracy: 0.8967 - val_loss: 1.1521 - val_accuracy: 0.7096\n"
          ]
        }
      ]
    }
  ]
}